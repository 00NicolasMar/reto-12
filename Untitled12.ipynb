{
  "nbformat": 4,
  "nbformat_minor": 0,
  "metadata": {
    "colab": {
      "provenance": []
    },
    "kernelspec": {
      "name": "python3",
      "display_name": "Python 3"
    },
    "language_info": {
      "name": "python"
    }
  },
  "cells": [
    {
      "cell_type": "markdown",
      "source": [
        "Desarrollar un algoritmo que imprima de manera ascendente los valores (todos del mismo tipo) de un diccionario."
      ],
      "metadata": {
        "id": "M9O7yxUH9WOq"
      }
    },
    {
      "cell_type": "code",
      "execution_count": null,
      "metadata": {
        "colab": {
          "base_uri": "https://localhost:8080/"
        },
        "id": "nPodCChZ30xs",
        "outputId": "3f17ba59-2870-4c9c-f6ba-14ffefd511ef"
      },
      "outputs": [
        {
          "output_type": "stream",
          "name": "stdout",
          "text": [
            "avion\n",
            "bus\n",
            "carro\n",
            "moto\n",
            "transmilenio\n"
          ]
        }
      ],
      "source": [
        "diccionario = {12: \"avion\", 2: \"carro\", 3: \"moto\", 4: \"bus\", 5: \"transmilenio\"} # nuestro diccionario inicial\n",
        "\n",
        "def valores_ordenados(diccionario): # iniciamos la funcion\n",
        "    valores_ordenados = sorted(diccionario.values()) #con la funcion sorted se obtienen los valores del diccionario y los ordena en orden ascendente.\n",
        "    for valor in valores_ordenados: # se recorren los elementos del diccionario\n",
        "        print(valor) # se realiza el print correspondiente\n",
        "\n",
        "valores_ordenados(diccionario) # llamado a la funcion\n",
        "\n"
      ]
    },
    {
      "cell_type": "markdown",
      "source": [
        "Desarrollar una funci�on que reciba dos diccionarios como par�ametros y los mezcle, es decir, que se construya un nuevo diccionario con las llaves de los dos diccionarios; si hay una clave repetida en ambos diccionarios, se debe asignar el valor que tenga la clave en el primer diccionario."
      ],
      "metadata": {
        "id": "7wuo2K829aWQ"
      }
    },
    {
      "cell_type": "code",
      "source": [
        "def mezclar_diccionarios(dic1, dic2): # no es exclusivo usted da los datos que desee, pero recuerda que la clave tienne que ser numeros\n",
        "    diccionario_mezclado = dic2.copy()  # hacemos la copia del segundo diccionario\n",
        "    diccionario_mezclado.update(dic1)  # Actualizamos con el primer diccionario (manteniendo sus valores en caso de duplicados)\n",
        "    return diccionario_mezclado # nos retorna la mezcla de ambos diccionarios en uno solo\n",
        "def ingresar_diccionario(): # establecemos una funcion la cual nos va  apermitir ingresar nuestro propios valores\n",
        "    diccionario = {} # dejamos el espacio apartado para almacenar nuestros elementos del diccionario\n",
        "    while True: # con un bucle while iniciamos el (bucle) con el fin de ingresar cuantos se deseen datos\n",
        "        clave = input(\"Ingrese la clave o no para dejar de agregar cosas al diccionario: \") # input encargado del ingreso de las llaves\n",
        "        if clave == \"no\": # para dejar de ingresar datos en el diccionario actual (ya sea el primero o el segundo)\n",
        "          break # en caso tal de que se dijera no en el input se para la funcion y continua con lo siguiente\n",
        "        valor = input(\"Ingrese el valor: \") # input que da el valor al elemento de una llave o clave que ingrese el valor al que corresponde\n",
        "        clave = int(clave)  # establecemos como entero la clave para que esta siempre sea un valor numerico\n",
        "        diccionario[clave] = valor # esto es para que se le asigne la clave a un valor y no quede como un dato random que se ingreso por que si\n",
        "    return diccionario # cerramos el bucle\n",
        "if __name__ == \"__main__\": # funcion principal\n",
        "    print(\"ingrese los elementos del primer diccionario\") # input que indica a que diccionario corresponden los tados que se estan ingresando\n",
        "    dic1 = ingresar_diccionario() # diccionario 1, se hace el llamado a la funcion de ingreso de datos establecida previamente\n",
        "    print(\"Ingrese los elementos del segundo diccionario:\") # lo mismo pero con el diccionario 2\n",
        "    dic2 = ingresar_diccionario()\n",
        "    resultado = mezclar_diccionarios(dic1, dic2) # llamamos a la funcion de mezcla de diccionarios para que nos de el resultado de todo el programa\n",
        "    print(\"Diccionario mezclado:\" + str(resultado)) # print que nos entrega nuestra respuesta\n"
      ],
      "metadata": {
        "colab": {
          "base_uri": "https://localhost:8080/",
          "height": 478
        },
        "id": "l0IUGqE9-mFI",
        "outputId": "0918a527-00af-4f44-b22a-01d6d5233642"
      },
      "execution_count": null,
      "outputs": [
        {
          "output_type": "stream",
          "name": "stdout",
          "text": [
            "ingrese los elementos del primer diccionario\n",
            "Ingrese la clave o no para dejar de agregar cosas al diccionario: 34\n",
            "Ingrese el valor: nicolas\n",
            "Ingrese la clave o no para dejar de agregar cosas al diccionario: 12\n",
            "Ingrese el valor: mateo\n",
            "Ingrese la clave o no para dejar de agregar cosas al diccionario: no\n",
            "Ingrese los elementos del segundo diccionario:\n"
          ]
        },
        {
          "output_type": "error",
          "ename": "KeyboardInterrupt",
          "evalue": "Interrupted by user",
          "traceback": [
            "\u001b[0;31m---------------------------------------------------------------------------\u001b[0m",
            "\u001b[0;31mKeyboardInterrupt\u001b[0m                         Traceback (most recent call last)",
            "\u001b[0;32m<ipython-input-70-3908a708497e>\u001b[0m in \u001b[0;36m<cell line: 0>\u001b[0;34m()\u001b[0m\n\u001b[1;32m     17\u001b[0m     \u001b[0mdic1\u001b[0m \u001b[0;34m=\u001b[0m \u001b[0mingresar_diccionario\u001b[0m\u001b[0;34m(\u001b[0m\u001b[0;34m)\u001b[0m \u001b[0;31m# diccionario 1, se hace el llamado a la funcion de ingreso de datos establecida previamente\u001b[0m\u001b[0;34m\u001b[0m\u001b[0;34m\u001b[0m\u001b[0m\n\u001b[1;32m     18\u001b[0m     \u001b[0mprint\u001b[0m\u001b[0;34m(\u001b[0m\u001b[0;34m\"Ingrese los elementos del segundo diccionario:\"\u001b[0m\u001b[0;34m)\u001b[0m \u001b[0;31m# lo mismo pero con el diccionario 2\u001b[0m\u001b[0;34m\u001b[0m\u001b[0;34m\u001b[0m\u001b[0m\n\u001b[0;32m---> 19\u001b[0;31m     \u001b[0mdic2\u001b[0m \u001b[0;34m=\u001b[0m \u001b[0mingresar_diccionario\u001b[0m\u001b[0;34m(\u001b[0m\u001b[0;34m)\u001b[0m\u001b[0;34m\u001b[0m\u001b[0;34m\u001b[0m\u001b[0m\n\u001b[0m\u001b[1;32m     20\u001b[0m     \u001b[0mresultado\u001b[0m \u001b[0;34m=\u001b[0m \u001b[0mmezclar_diccionarios\u001b[0m\u001b[0;34m(\u001b[0m\u001b[0mdic1\u001b[0m\u001b[0;34m,\u001b[0m \u001b[0mdic2\u001b[0m\u001b[0;34m)\u001b[0m \u001b[0;31m# llamamos a la funcion de mezcla de diccionarios para que nos de el resultado de todo el programa\u001b[0m\u001b[0;34m\u001b[0m\u001b[0;34m\u001b[0m\u001b[0m\n\u001b[1;32m     21\u001b[0m     \u001b[0mprint\u001b[0m\u001b[0;34m(\u001b[0m\u001b[0;34m\"Diccionario mezclado:\"\u001b[0m \u001b[0;34m+\u001b[0m \u001b[0mstr\u001b[0m\u001b[0;34m(\u001b[0m\u001b[0mresultado\u001b[0m\u001b[0;34m)\u001b[0m\u001b[0;34m)\u001b[0m \u001b[0;31m# print que nos entrega nuestra respuesta\u001b[0m\u001b[0;34m\u001b[0m\u001b[0;34m\u001b[0m\u001b[0m\n",
            "\u001b[0;32m<ipython-input-70-3908a708497e>\u001b[0m in \u001b[0;36mingresar_diccionario\u001b[0;34m()\u001b[0m\n\u001b[1;32m      6\u001b[0m     \u001b[0mdiccionario\u001b[0m \u001b[0;34m=\u001b[0m \u001b[0;34m{\u001b[0m\u001b[0;34m}\u001b[0m \u001b[0;31m# dejamos el espacio apartado para almacenar nuestros elementos del diccionario\u001b[0m\u001b[0;34m\u001b[0m\u001b[0;34m\u001b[0m\u001b[0m\n\u001b[1;32m      7\u001b[0m     \u001b[0;32mwhile\u001b[0m \u001b[0;32mTrue\u001b[0m\u001b[0;34m:\u001b[0m \u001b[0;31m# con un bucle while iniciamos el (bucle) con el fin de ingresar cuantos se deseen datos\u001b[0m\u001b[0;34m\u001b[0m\u001b[0;34m\u001b[0m\u001b[0m\n\u001b[0;32m----> 8\u001b[0;31m         \u001b[0mclave\u001b[0m \u001b[0;34m=\u001b[0m \u001b[0minput\u001b[0m\u001b[0;34m(\u001b[0m\u001b[0;34m\"Ingrese la clave o no para dejar de agregar cosas al diccionario: \"\u001b[0m\u001b[0;34m)\u001b[0m \u001b[0;31m# input encargado del ingreso de las llaves\u001b[0m\u001b[0;34m\u001b[0m\u001b[0;34m\u001b[0m\u001b[0m\n\u001b[0m\u001b[1;32m      9\u001b[0m         \u001b[0;32mif\u001b[0m \u001b[0mclave\u001b[0m \u001b[0;34m==\u001b[0m \u001b[0;34m\"no\"\u001b[0m\u001b[0;34m:\u001b[0m \u001b[0;31m# para dejar de ingresar datos en el diccionario actual (ya sea el primero o el segundo)\u001b[0m\u001b[0;34m\u001b[0m\u001b[0;34m\u001b[0m\u001b[0m\n\u001b[1;32m     10\u001b[0m           \u001b[0;32mbreak\u001b[0m \u001b[0;31m# en caso tal de que se dijera no en el input se para la funcion y continua con lo siguiente\u001b[0m\u001b[0;34m\u001b[0m\u001b[0;34m\u001b[0m\u001b[0m\n",
            "\u001b[0;32m/usr/local/lib/python3.11/dist-packages/ipykernel/kernelbase.py\u001b[0m in \u001b[0;36mraw_input\u001b[0;34m(self, prompt)\u001b[0m\n\u001b[1;32m   1175\u001b[0m                 \u001b[0;34m\"raw_input was called, but this frontend does not support input requests.\"\u001b[0m\u001b[0;34m\u001b[0m\u001b[0;34m\u001b[0m\u001b[0m\n\u001b[1;32m   1176\u001b[0m             )\n\u001b[0;32m-> 1177\u001b[0;31m         return self._input_request(\n\u001b[0m\u001b[1;32m   1178\u001b[0m             \u001b[0mstr\u001b[0m\u001b[0;34m(\u001b[0m\u001b[0mprompt\u001b[0m\u001b[0;34m)\u001b[0m\u001b[0;34m,\u001b[0m\u001b[0;34m\u001b[0m\u001b[0;34m\u001b[0m\u001b[0m\n\u001b[1;32m   1179\u001b[0m             \u001b[0mself\u001b[0m\u001b[0;34m.\u001b[0m\u001b[0m_parent_ident\u001b[0m\u001b[0;34m[\u001b[0m\u001b[0;34m\"shell\"\u001b[0m\u001b[0;34m]\u001b[0m\u001b[0;34m,\u001b[0m\u001b[0;34m\u001b[0m\u001b[0;34m\u001b[0m\u001b[0m\n",
            "\u001b[0;32m/usr/local/lib/python3.11/dist-packages/ipykernel/kernelbase.py\u001b[0m in \u001b[0;36m_input_request\u001b[0;34m(self, prompt, ident, parent, password)\u001b[0m\n\u001b[1;32m   1217\u001b[0m             \u001b[0;32mexcept\u001b[0m \u001b[0mKeyboardInterrupt\u001b[0m\u001b[0;34m:\u001b[0m\u001b[0;34m\u001b[0m\u001b[0;34m\u001b[0m\u001b[0m\n\u001b[1;32m   1218\u001b[0m                 \u001b[0;31m# re-raise KeyboardInterrupt, to truncate traceback\u001b[0m\u001b[0;34m\u001b[0m\u001b[0;34m\u001b[0m\u001b[0m\n\u001b[0;32m-> 1219\u001b[0;31m                 \u001b[0;32mraise\u001b[0m \u001b[0mKeyboardInterrupt\u001b[0m\u001b[0;34m(\u001b[0m\u001b[0;34m\"Interrupted by user\"\u001b[0m\u001b[0;34m)\u001b[0m \u001b[0;32mfrom\u001b[0m \u001b[0;32mNone\u001b[0m\u001b[0;34m\u001b[0m\u001b[0;34m\u001b[0m\u001b[0m\n\u001b[0m\u001b[1;32m   1220\u001b[0m             \u001b[0;32mexcept\u001b[0m \u001b[0mException\u001b[0m\u001b[0;34m:\u001b[0m\u001b[0;34m\u001b[0m\u001b[0;34m\u001b[0m\u001b[0m\n\u001b[1;32m   1221\u001b[0m                 \u001b[0mself\u001b[0m\u001b[0;34m.\u001b[0m\u001b[0mlog\u001b[0m\u001b[0;34m.\u001b[0m\u001b[0mwarning\u001b[0m\u001b[0;34m(\u001b[0m\u001b[0;34m\"Invalid Message:\"\u001b[0m\u001b[0;34m,\u001b[0m \u001b[0mexc_info\u001b[0m\u001b[0;34m=\u001b[0m\u001b[0;32mTrue\u001b[0m\u001b[0;34m)\u001b[0m\u001b[0;34m\u001b[0m\u001b[0;34m\u001b[0m\u001b[0m\n",
            "\u001b[0;31mKeyboardInterrupt\u001b[0m: Interrupted by user"
          ]
        }
      ]
    },
    {
      "cell_type": "markdown",
      "source": [
        "Cree un programa que lea de un archivo con dicho JSON y:\n",
        "\n",
        "Imprima los nombres completos (nombre y apellidos) de las personas que practican el deporte ingresado por el usuario.\n",
        "Imprima los nombres completos (nombre y apellidos) de las personas que est�en en un rango de edades dado por el usuario."
      ],
      "metadata": {
        "id": "6oqCC1GiByd0"
      }
    },
    {
      "cell_type": "code",
      "source": [
        "def cargar_json(ruta):\n",
        "    with open (ruta, encoding='utf-8') as archivo:\n",
        "        resultado = json.load(archivo)\n",
        "        return (resultado)\n",
        "\n",
        "# Función para entregar nombre\n",
        "def deportes(resultado, deporte):\n",
        "    nombre= []\n",
        "    deporte= deporte.lower()\n",
        "    for i in resultado.values():\n",
        "        if deporte in [d.lower() for d in i.get('deportes',[])]:\n",
        "            nombre.append(str(i['nombres']), + str(i['apellidos']))\n",
        "    return nombre\n",
        "\n",
        "\n",
        "# Función para entregar nombre según el rango de edad\n",
        "def edad(resultado, edad_mn, edadmx):\n",
        "    nombres= []\n",
        "    for i in resultado.values():\n",
        "        if edad_mn <= i.get('edad',0) <= edadmx:\n",
        "            nombres.append(str(i['nombres']), + str(i['apellidos']))\n",
        "    return nombres\n",
        "\n",
        "\n",
        "if __name__ == \"__main__\": # funcion principal a realizar\n",
        "    ruta= r'c:\\Users\\nicolas10\\Descargas\\archivo.json'  # Ubicacion de el documento dado por el profe\n",
        "    datos = cargar_json(ruta)\n",
        "\n",
        "    opcion = input(\"Buscar por Deporte o Rango de edad (escriba deporte o edad): \") #input donde se pide escoger por que medio solicitar nombres\n",
        "\n",
        "    if opcion == \"deporte\":\n",
        "        deporte = input(\"Ingrese el deporte: \") # seleccionar el deporte\n",
        "        resultados = deportes(datos, deporte)\n",
        "    elif opcion == \"edad\":\n",
        "        edad_min = int(input(\"Ingrese la edad minima: \"))# seleccion de edad minima o maxima\n",
        "        edad_max = int(input(\"Ingrese la edad maxima: \"))\n",
        "        resultados = edad(datos, edad_min, edad_max)\n",
        "    else:\n",
        "        print(\"no es valida la opcion\") # print de mal eleccion del usuario\n",
        "        resultados = []\n",
        "\n",
        "    if resultados:\n",
        "        print(\"Resultados:\")\n",
        "        for nombre in resultados:\n",
        "            print(nombre)\n",
        "    else:\n",
        "        print(\"No se encontraron coincidencias.\")\n",
        ""
      ],
      "metadata": {
        "id": "Bu7lgouMBzzj"
      },
      "execution_count": null,
      "outputs": []
    },
    {
      "cell_type": "markdown",
      "source": [
        "El siguiente código contiene un JSON con el pronostivo detallado del clima para 8 días: import json"
      ],
      "metadata": {
        "id": "sR9BsGRUF0PU"
      }
    },
    {
      "cell_type": "code",
      "source": [
        "import json\n",
        "from datetime import datetime\n",
        "\n",
        "# Cargar el JSON\n",
        "jsonString = '''\n",
        "{\\\"dt\\\": {\\\"0\\\": 1685116800, \\\"1\\\": 1685203200, \\\"2\\\": 1685289600, \\\"3\\\": 1685376000, \\\"4\\\": 1685462400, \\\"5\\\": 1685548800, \\\"6\\\": 1685635200, \\\"7\\\": 1685721600}, \\\"sunrise\\\": {\\\"0\\\": 1685097348, \\\"1\\\": 1685183745, \\\"2\\\": 1685270143, \\\"3\\\": 1685356542, \\\"4\\\": 1685442942, \\\"5\\\": 1685529342, \\\"6\\\": 1685615743, \\\"7\\\": 1685702145}, \\\"sunset\\\": {\\\"0\\\": 1685143042, \\\"1\\\": 1685229458, \\\"2\\\": 1685315875, \\\"3\\\": 1685402291, \\\"4\\\": 1685488708, \\\"5\\\": 1685575124, \\\"6\\\": 1685661541, \\\"7\\\": 1685747958}, \\\"moonrise\\\": {\\\"0\\\": 1685118300, \\\"1\\\": 1685207460, \\\"2\\\": 1685296620, \\\"3\\\": 1685385720, \\\"4\\\": 1685474880, \\\"5\\\": 1685564220, \\\"6\\\": 1685653740, \\\"7\\\": 1685743500}, \\\"moonset\\\": {\\\"0\\\": 0, \\\"1\\\": 1685164320, \\\"2\\\": 1685253000, \\\"3\\\": 1685341560, \\\"4\\\": 1685430120, \\\"5\\\": 1685518740, \\\"6\\\": 1685607600, \\\"7\\\": 1685696640}, \\\"moon_phase\\\": {\\\"0\\\": 0.22, \\\"1\\\": 0.25, \\\"2\\\": 0.28, \\\"3\\\": 0.31, \\\"4\\\": 0.35, \\\"5\\\": 0.38, \\\"6\\\": 0.41, \\\"7\\\": 0.45}, \\\"pressure\\\": {\\\"0\\\": 1011, \\\"1\\\": 1012, \\\"2\\\": 1012, \\\"3\\\": 1012, \\\"4\\\": 1012, \\\"5\\\": 1012, \\\"6\\\": 1012, \\\"7\\\": 1011}, \\\"humidity\\\": {\\\"0\\\": 85, \\\"1\\\": 61, \\\"2\\\": 68, \\\"3\\\": 74, \\\"4\\\": 84, \\\"5\\\": 66, \\\"6\\\": 81, \\\"7\\\": 82}, \\\"dew_point\\\": {\\\"0\\\": 23.93, \\\"1\\\": 22.5, \\\"2\\\": 23.67, \\\"3\\\": 23.35, \\\"4\\\": 24.22, \\\"5\\\": 22.73, \\\"6\\\": 23.18, \\\"7\\\": 22.93}, \\\"velViento\\\": {\\\"0\\\": 3.56, \\\"1\\\": 5.07, \\\"2\\\": 5.38, \\\"3\\\": 3.95, \\\"4\\\": 4.74, \\\"5\\\": 3.75, \\\"6\\\": 4.08, \\\"7\\\": 5.94}, \\\"dirViento\\\": {\\\"0\\\": 188, \\\"1\\\": 14, \\\"2\\\": 21, \\\"3\\\": 23, \\\"4\\\": 40, \\\"5\\\": 330, \\\"6\\\": 176, \\\"7\\\": 168}, \\\"wind_gust\\\": {\\\"0\\\": 6.47, \\\"1\\\": 8.86, \\\"2\\\": 8.95, \\\"3\\\": 6.12, \\\"4\\\": 7.17, \\\"5\\\": 5.4, \\\"6\\\": 5.13, \\\"7\\\": 9.67}, \\\"weather\\\": {\\\"0\\\": [{\\\"id\\\": 501, \\\"main\\\": \\\"Rain\\\", \\\"description\\\": \\\"lluvia moderada\\\", \\\"icon\\\": \\\"10d\\\"}], \\\"1\\\": [{\\\"id\\\": 500, \\\"main\\\": \\\"Rain\\\", \\\"description\\\": \\\"lluvia ligera\\\", \\\"icon\\\": \\\"10d\\\"}], \\\"2\\\": [{\\\"id\\\": 501, \\\"main\\\": \\\"Rain\\\", \\\"description\\\": \\\"lluvia moderada\\\", \\\"icon\\\": \\\"10d\\\"}], \\\"3\\\": [{\\\"id\\\": 500, \\\"main\\\": \\\"Rain\\\", \\\"description\\\": \\\"lluvia ligera\\\", \\\"icon\\\": \\\"10d\\\"}], \\\"4\\\": [{\\\"id\\\": 501, \\\"main\\\": \\\"Rain\\\", \\\"description\\\": \\\"lluvia moderada\\\", \\\"icon\\\": \\\"10d\\\"}], \\\"5\\\": [{\\\"id\\\": 500, \\\"main\\\": \\\"Rain\\\", \\\"description\\\": \\\"lluvia ligera\\\", \\\"icon\\\": \\\"10d\\\"}], \\\"6\\\": [{\\\"id\\\": 500, \\\"main\\\": \\\"Rain\\\", \\\"description\\\": \\\"lluvia ligera\\\", \\\"icon\\\": \\\"10d\\\"}], \\\"7\\\": [{\\\"id\\\": 500, \\\"main\\\": \\\"Rain\\\", \\\"description\\\": \\\"lluvia ligera\\\", \\\"icon\\\": \\\"10d\\\"}]}, \\\"clouds\\\": {\\\"0\\\": 100, \\\"1\\\": 82, \\\"2\\\": 99, \\\"3\\\": 100, \\\"4\\\": 100, \\\"5\\\": 59, \\\"6\\\": 100, \\\"7\\\": 100}, \\\"pop\\\": {\\\"0\\\": 1.0, \\\"1\\\": 0.65, \\\"2\\\": 0.98, \\\"3\\\": 0.86, \\\"4\\\": 1.0, \\\"5\\\": 0.62, \\\"6\\\": 0.93, \\\"7\\\": 0.95}, \\\"prcp\\\": {\\\"0\\\": 40.0, \\\"1\\\": 1.65, \\\"2\\\": 14.01, \\\"3\\\": 5.07, \\\"4\\\": 16.55, \\\"5\\\": 2.17, \\\"6\\\": 2.77, \\\"7\\\": 1.73}, \\\"uvi\\\": {\\\"0\\\": 10.14, \\\"1\\\": 12.78, \\\"2\\\": 12.73, \\\"3\\\": 8.44, \\\"4\\\": 0.59, \\\"5\\\": 1.0, \\\"6\\\": 1.0, \\\"7\\\": 1.0}, \\\"temp.day\\\": {\\\"0\\\": 26.62, \\\"1\\\": 30.95, \\\"2\\\": 30.17, \\\"3\\\": 28.37, \\\"4\\\": 27.22, \\\"5\\\": 29.78, \\\"6\\\": 26.83, \\\"7\\\": 26.36}, \\\"tmpMin\\\": {\\\"0\\\": 25.64, \\\"1\\\": 24.64, \\\"2\\\": 25.84, \\\"3\\\": 25.56, \\\"4\\\": 25.72, \\\"5\\\": 24.86, \\\"6\\\": 25.96, \\\"7\\\": 25.47}, \\\"tmpMax\\\": {\\\"0\\\": 27.16, \\\"1\\\": 31.1, \\\"2\\\": 30.2, \\\"3\\\": 29.5, \\\"4\\\": 28.87, \\\"5\\\": 29.78, \\\"6\\\": 28.96, \\\"7\\\": 28.25}, \\\"temp.night\\\": {\\\"0\\\": 25.67, \\\"1\\\": 27.39, \\\"2\\\": 26.24, \\\"3\\\": 27.2, \\\"4\\\": 25.92, \\\"5\\\": 27.14, \\\"6\\\": 26.56, \\\"7\\\": 25.66}, \\\"temp.eve\\\": {\\\"0\\\": 25.91, \\\"1\\\": 28.73, \\\"2\\\": 27.42, \\\"3\\\": 28.27, \\\"4\\\": 27.94, \\\"5\\\": 29.29, \\\"6\\\": 28.96, \\\"7\\\": 28.12}, \\\"temp.morn\\\": {\\\"0\\\": 26.5, \\\"1\\\": 24.64, \\\"2\\\": 26.13, \\\"3\\\": 25.72, \\\"4\\\": 26.04, \\\"5\\\": 24.86, \\\"6\\\": 25.98, \\\"7\\\": 25.57}, \\\"feels_like.day\\\": {\\\"0\\\": 26.62, \\\"1\\\": 34.99, \\\"2\\\": 34.96, \\\"3\\\": 32.03, \\\"4\\\": 30.67, \\\"5\\\": 33.62, \\\"6\\\": 29.45, \\\"7\\\": 26.36}, \\\"feels_like.night\\\": {\\\"0\\\": 26.56, \\\"1\\\": 30.98, \\\"2\\\": 26.24, \\\"3\\\": 30.62, \\\"4\\\": 26.84, \\\"5\\\": 30.16, \\\"6\\\": 26.56, \\\"7\\\": 26.45}, \\\"feels_like.eve\\\": {\\\"0\\\": 26.85, \\\"1\\\": 32.49, \\\"2\\\": 30.94, \\\"3\\\": 31.8, \\\"4\\\": 31.51, \\\"5\\\": 33.17, \\\"6\\\": 32.64, \\\"7\\\": 31.18}, \\\"feels_like.morn\\\": {\\\"0\\\": 26.5, \\\"1\\\": 25.48, \\\"2\\\": 26.13, \\\"3\\\": 26.62, \\\"4\\\": 26.04, \\\"5\\\": 25.73, \\\"6\\\": 25.98, \\\"7\\\": 26.4}, \\\"date\\\": {\\\"0\\\": 1685098800000, \\\"1\\\": 1685185200000, \\\"2\\\": 1685271600000, \\\"3\\\": 1685358000000, \\\"4\\\": 1685444400000, \\\"5\\\": 1685530800000, \\\"6\\\": 1685617200000, \\\"7\\\": 1685703600000}, \\\"main\\\": {\\\"0\\\": \\\"Rain\\\", \\\"1\\\": \\\"Rain\\\", \\\"2\\\": \\\"Rain\\\", \\\"3\\\": \\\"Rain\\\", \\\"4\\\": \\\"Rain\\\", \\\"5\\\": \\\"Rain\\\", \\\"6\\\": \\\"Rain\\\", \\\"7\\\": \\\"Rain\\\"}, \\\"description\\\": {\\\"0\\\": \\\"lluvia moderada\\\", \\\"1\\\": \\\"lluvia ligera\\\", \\\"2\\\": \\\"lluvia moderada\\\", \\\"3\\\": \\\"lluvia ligera\\\", \\\"4\\\": \\\"lluvia moderada\\\", \\\"5\\\": \\\"lluvia ligera\\\", \\\"6\\\": \\\"lluvia ligera\\\", \\\"7\\\": \\\"lluvia ligera\\\"}, \\\"icono\\\": {\\\"0\\\": \\\"10d\\\", \\\"1\\\": \\\"10d\\\", \\\"2\\\": \\\"10d\\\", \\\"3\\\": \\\"10d\\\", \\\"4\\\": \\\"10d\\\", \\\"5\\\": \\\"10d\\\", \\\"6\\\": \\\"10d\\\", \\\"7\\\": \\\"10d\\\"}, \\\"alertPrecip\\\": {\\\"0\\\": \\\"X\\\", \\\"1\\\": \\\"-\\\", \\\"2\\\": \\\"-\\\", \\\"3\\\": \\\"-\\\", \\\"4\\\": \\\"-\\\", \\\"5\\\": \\\"-\\\", \\\"6\\\": \\\"-\\\", \\\"7\\\": \\\"-\\\"}, \\\"alertAlertas\\\": {\\\"0\\\": \\\"-\\\", \\\"1\\\": \\\"-\\\", \\\"2\\\": \\\"-\\\", \\\"3\\\": \\\"-\\\", \\\"4\\\": \\\"-\\\", \\\"5\\\": \\\"-\\\", \\\"6\\\": \\\"-\\\", \\\"7\\\": \\\"-\\\"}, \\\"alertVelViento\\\": {\\\"0\\\": \\\"-\\\", \\\"1\\\": \\\"-\\\", \\\"2\\\": \\\"X\\\", \\\"3\\\": \\\"-\\\", \\\"4\\\": \\\"-\\\", \\\"5\\\": \\\"-\\\", \\\"6\\\": \\\"-\\\", \\\"7\\\": \\\"-\\\"}, \\\"alertTmpMax\\\": {\\\"0\\\": \\\"-\\\", \\\"1\\\": \\\"-\\\", \\\"2\\\": \\\"-\\\", \\\"3\\\": \\\"-\\\", \\\"4\\\": \\\"-\\\", \\\"5\\\": \\\"X\\\", \\\"6\\\": \\\"-\\\", \\\"7\\\": \\\"-\\\"}, \\\"alertTmpMin\\\": {\\\"0\\\": \\\"-\\\", \\\"1\\\": \\\"X\\\", \\\"2\\\": \\\"-\\\", \\\"3\\\": \\\"-\\\", \\\"4\\\": \\\"-\\\", \\\"5\\\": \\\"-\\\", \\\"6\\\": \\\"-\\\", \\\"7\\\": \\\"-\\\"}, \\\"recomendaciones\\\": {\\\"lluvias\\\": \\\"Realice una revisi\\u00f3n y limpieza a la red de desague y canales existentes ENTER8 Cuente con una estaci\\u00f3n de bombeo, que debe estar ubicada en el punto m\\u00e1s bajo del predio. Aseg\\u00farese de encender y probar el sistema de bombeo al menos una vez al mes y hacer un mantenimiento mensual al equipo de bombeoENTER8 Los productos alojados en zonas de almacenamiento deben mantenersen sobre estibas - estanterias, con el fin de que no entren en contacto directo con el agua.\\\", \\\"vientos\\\": \\\"-\\\", \\\"temperatura\\\": \\\"-\\\"}}\n",
        "'''\n",
        "data = json.loads(jsonString)\n",
        "# Convertir timestamp a fecha legible\n",
        "def convertir_fecha(timestamp):\n",
        "    return datetime.utcfromtimestamp(timestamp).strftime('%Y-%m-%d')\n",
        "# Campos de alerta\n",
        "alertas = [\"alertPrecip\", \"alertAlertas\", \"alertVelViento\", \"alertTmpMax\", \"alertTmpMin\"]\n",
        "resultados = []\n",
        "# Revisar alertas\n",
        "for alerta in alertas:\n",
        "    for dia, estado in data[alerta].items():\n",
        "        if estado == \"X\":  # indica si hay alguna alerta\n",
        "            fecha = convertir_fecha(data[\"dt\"][dia])\n",
        "            detalles = {\"fecha\": fecha, \"tipo\": alerta}\n",
        "            # Obtenemos los detalles del evento en cuestion\n",
        "            if alerta == \"alertPrecip\":\n",
        "                detalles[\"lluvia_mm\"] = data[\"prcp\"][dia]\n",
        "            elif alerta == \"alertVelViento\":\n",
        "                detalles[\"viento_kmh\"] = data[\"velViento\"][dia]\n",
        "            elif alerta == [\"alertTmpMax\"]:\n",
        "                detalles[\"temp_max\"] = data[\"tmpMax\"][dia]\n",
        "            elif alerta == [\"alertTmpMin\"]:\n",
        "                detalles[\"temp_min\"] = data[\"tmpMin\"][dia]\n",
        "            resultados.append(detalles)\n",
        "for r in resultados:\n",
        "    print(\"Fecha: \" + str(r['fecha']) + \", Tipo de alerta: \" + str(r['tipo'])) # se hace la impresion de los resultados dados\n",
        "    for clave, valor in r.items():\n",
        "        if clave not in [\"fecha\", \"tipo\"]:\n",
        "            print(str(clave) + \" : \" + str(valor))\n"
      ],
      "metadata": {
        "colab": {
          "base_uri": "https://localhost:8080/"
        },
        "id": "NKLtjfu0GbXY",
        "outputId": "c3ce8155-80f9-4ed0-c46b-503e24ed93b1"
      },
      "execution_count": 8,
      "outputs": [
        {
          "output_type": "stream",
          "name": "stdout",
          "text": [
            "Fecha: 2023-05-26, Tipo de alerta: alertPrecip\n",
            "lluvia_mm : 40.0\n",
            "Fecha: 2023-05-28, Tipo de alerta: alertVelViento\n",
            "viento_kmh : 5.38\n",
            "Fecha: 2023-05-31, Tipo de alerta: alertTmpMax\n",
            "Fecha: 2023-05-27, Tipo de alerta: alertTmpMin\n"
          ]
        }
      ]
    },
    {
      "cell_type": "markdown",
      "source": [
        "A través de un programa conectese a al menos 3 API's , obtenga el JSON, imprimalo y extraiga los pares de llave : valor."
      ],
      "metadata": {
        "id": "6QATE1_VJLNR"
      }
    },
    {
      "cell_type": "code",
      "source": [
        "import requests\n",
        "import json\n",
        "\n",
        "# Definir las URLs de las APIs\n",
        "apis = {\n",
        "    \"Dato Curioso de Gatos\": \"https://catfact.ninja/fact\",\n",
        "    \"Código Postal (33162 - EE.UU.)\": \"https://api.zippopotam.us/us/33162\",\n",
        "    \"Usuario Aleatorio\": \"https://randomuser.me/api/\"\n",
        "}\n",
        "\n",
        "# Función para obtener y mostrar datos JSON\n",
        "def obtener_datos(api_nombre, url):\n",
        "    print(\"API: \" + str(api_nombre) + \" (\" + str(url) + \")\")\n",
        "\n",
        "    # Hacer la solicitud HTTP GET\n",
        "    respuesta = requests.get(url)\n",
        "\n",
        "    if respuesta.status_code == 200:\n",
        "        datos_json = respuesta.json()\n",
        "\n",
        "        # Imprimir JSON\n",
        "        print(\"API2 \" + str(api_nombre) + \":\")\n",
        "        print(json.dumps(datos_json, indent=4))  # Pretty print\n",
        "\n",
        "        # Extraer pares llave:valor\n",
        "        print(\"Pares llave:valor extraídos:\")\n",
        "        extraer_pares(datos_json)\n",
        "    else:\n",
        "        print(\"Error al conectar a \" + str(api_nombre) + \" - Código HTTP: \" + str(respuesta.status_code))\n",
        "\n",
        "# Función para recorrer el JSON y extraer pares llave: valor\n",
        "def extraer_pares(datos, prefijo=\"\"):\n",
        "    if isinstance(datos, dict):\n",
        "        for llave, valor in datos.items():\n",
        "            nueva_llave = (prefijo + \".\" + llave) if prefijo else llave\n",
        "            extraer_pares(valor, nueva_llave)\n",
        "    elif isinstance(datos, list):\n",
        "        for i, elemento in enumerate(datos):\n",
        "            extraer_pares(elemento, prefijo + \"[\" + str(i) + \"]\")\n",
        "    else:\n",
        "        print(prefijo + \": \" + str(datos))\n",
        "\n",
        "# Bloque principal\n",
        "if __name__ == \"__main__\":\n",
        "    for nombre, url in apis.items():\n",
        "        obtener_datos(nombre, url)\n"
      ],
      "metadata": {
        "colab": {
          "base_uri": "https://localhost:8080/"
        },
        "id": "gvUtWh1zIp7d",
        "outputId": "847bf120-74c8-43c6-fa5a-bd4f759cf2d2"
      },
      "execution_count": 10,
      "outputs": [
        {
          "output_type": "stream",
          "name": "stdout",
          "text": [
            "API: Dato Curioso de Gatos (https://catfact.ninja/fact)\n",
            "API2 Dato Curioso de Gatos:\n",
            "{\n",
            "    \"fact\": \"The life expectancy of cats has nearly doubled since 1930 - from 8 to 16 years.\",\n",
            "    \"length\": 79\n",
            "}\n",
            "Pares llave:valor extraídos:\n",
            "fact: The life expectancy of cats has nearly doubled since 1930 - from 8 to 16 years.\n",
            "length: 79\n",
            "API: Código Postal (33162 - EE.UU.) (https://api.zippopotam.us/us/33162)\n",
            "API2 Código Postal (33162 - EE.UU.):\n",
            "{\n",
            "    \"post code\": \"33162\",\n",
            "    \"country\": \"United States\",\n",
            "    \"country abbreviation\": \"US\",\n",
            "    \"places\": [\n",
            "        {\n",
            "            \"place name\": \"Miami\",\n",
            "            \"longitude\": \"-80.183\",\n",
            "            \"state\": \"Florida\",\n",
            "            \"state abbreviation\": \"FL\",\n",
            "            \"latitude\": \"25.9286\"\n",
            "        }\n",
            "    ]\n",
            "}\n",
            "Pares llave:valor extraídos:\n",
            "post code: 33162\n",
            "country: United States\n",
            "country abbreviation: US\n",
            "places[0].place name: Miami\n",
            "places[0].longitude: -80.183\n",
            "places[0].state: Florida\n",
            "places[0].state abbreviation: FL\n",
            "places[0].latitude: 25.9286\n",
            "API: Usuario Aleatorio (https://randomuser.me/api/)\n",
            "API2 Usuario Aleatorio:\n",
            "{\n",
            "    \"results\": [\n",
            "        {\n",
            "            \"gender\": \"female\",\n",
            "            \"name\": {\n",
            "                \"title\": \"Mrs\",\n",
            "                \"first\": \"Bego\\u00f1a\",\n",
            "                \"last\": \"Gallego\"\n",
            "            },\n",
            "            \"location\": {\n",
            "                \"street\": {\n",
            "                    \"number\": 1375,\n",
            "                    \"name\": \"Avenida de Burgos\"\n",
            "                },\n",
            "                \"city\": \"Pontevedra\",\n",
            "                \"state\": \"Canarias\",\n",
            "                \"country\": \"Spain\",\n",
            "                \"postcode\": 12440,\n",
            "                \"coordinates\": {\n",
            "                    \"latitude\": \"-36.4989\",\n",
            "                    \"longitude\": \"13.7242\"\n",
            "                },\n",
            "                \"timezone\": {\n",
            "                    \"offset\": \"-6:00\",\n",
            "                    \"description\": \"Central Time (US & Canada), Mexico City\"\n",
            "                }\n",
            "            },\n",
            "            \"email\": \"begona.gallego@example.com\",\n",
            "            \"login\": {\n",
            "                \"uuid\": \"247320b2-0fd4-475b-9601-f82903adc67a\",\n",
            "                \"username\": \"beautifulzebra558\",\n",
            "                \"password\": \"1234\",\n",
            "                \"salt\": \"92pBwRwx\",\n",
            "                \"md5\": \"32880ffca8808789c960c18e46ed8864\",\n",
            "                \"sha1\": \"004afb2b13e4381ac1ad413f592bee614fc09eed\",\n",
            "                \"sha256\": \"f40dda43ca61868234b6bd6afacaaf3d607b958bde2ec48f6187268d6e623c74\"\n",
            "            },\n",
            "            \"dob\": {\n",
            "                \"date\": \"1952-12-08T10:34:51.466Z\",\n",
            "                \"age\": 72\n",
            "            },\n",
            "            \"registered\": {\n",
            "                \"date\": \"2014-06-16T11:44:17.652Z\",\n",
            "                \"age\": 10\n",
            "            },\n",
            "            \"phone\": \"916-874-469\",\n",
            "            \"cell\": \"683-464-694\",\n",
            "            \"id\": {\n",
            "                \"name\": \"DNI\",\n",
            "                \"value\": \"25195482-R\"\n",
            "            },\n",
            "            \"picture\": {\n",
            "                \"large\": \"https://randomuser.me/api/portraits/women/4.jpg\",\n",
            "                \"medium\": \"https://randomuser.me/api/portraits/med/women/4.jpg\",\n",
            "                \"thumbnail\": \"https://randomuser.me/api/portraits/thumb/women/4.jpg\"\n",
            "            },\n",
            "            \"nat\": \"ES\"\n",
            "        }\n",
            "    ],\n",
            "    \"info\": {\n",
            "        \"seed\": \"e7aea1ed2184d070\",\n",
            "        \"results\": 1,\n",
            "        \"page\": 1,\n",
            "        \"version\": \"1.4\"\n",
            "    }\n",
            "}\n",
            "Pares llave:valor extraídos:\n",
            "results[0].gender: female\n",
            "results[0].name.title: Mrs\n",
            "results[0].name.first: Begoña\n",
            "results[0].name.last: Gallego\n",
            "results[0].location.street.number: 1375\n",
            "results[0].location.street.name: Avenida de Burgos\n",
            "results[0].location.city: Pontevedra\n",
            "results[0].location.state: Canarias\n",
            "results[0].location.country: Spain\n",
            "results[0].location.postcode: 12440\n",
            "results[0].location.coordinates.latitude: -36.4989\n",
            "results[0].location.coordinates.longitude: 13.7242\n",
            "results[0].location.timezone.offset: -6:00\n",
            "results[0].location.timezone.description: Central Time (US & Canada), Mexico City\n",
            "results[0].email: begona.gallego@example.com\n",
            "results[0].login.uuid: 247320b2-0fd4-475b-9601-f82903adc67a\n",
            "results[0].login.username: beautifulzebra558\n",
            "results[0].login.password: 1234\n",
            "results[0].login.salt: 92pBwRwx\n",
            "results[0].login.md5: 32880ffca8808789c960c18e46ed8864\n",
            "results[0].login.sha1: 004afb2b13e4381ac1ad413f592bee614fc09eed\n",
            "results[0].login.sha256: f40dda43ca61868234b6bd6afacaaf3d607b958bde2ec48f6187268d6e623c74\n",
            "results[0].dob.date: 1952-12-08T10:34:51.466Z\n",
            "results[0].dob.age: 72\n",
            "results[0].registered.date: 2014-06-16T11:44:17.652Z\n",
            "results[0].registered.age: 10\n",
            "results[0].phone: 916-874-469\n",
            "results[0].cell: 683-464-694\n",
            "results[0].id.name: DNI\n",
            "results[0].id.value: 25195482-R\n",
            "results[0].picture.large: https://randomuser.me/api/portraits/women/4.jpg\n",
            "results[0].picture.medium: https://randomuser.me/api/portraits/med/women/4.jpg\n",
            "results[0].picture.thumbnail: https://randomuser.me/api/portraits/thumb/women/4.jpg\n",
            "results[0].nat: ES\n",
            "info.seed: e7aea1ed2184d070\n",
            "info.results: 1\n",
            "info.page: 1\n",
            "info.version: 1.4\n"
          ]
        }
      ]
    }
  ]
}